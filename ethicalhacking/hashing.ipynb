{
 "cells": [
  {
   "cell_type": "markdown",
   "metadata": {},
   "source": [
    "<h1>Python Example: Salting and Hashing</h1>\n"
   ]
  },
  {
   "cell_type": "code",
   "execution_count": 1,
   "metadata": {},
   "outputs": [
    {
     "name": "stdout",
     "output_type": "stream",
     "text": [
      "Salt: 92aac40d91f56d02cb20a4f7f4c4942e\n",
      "Hashed Password: 77fc4d7e8d2280036fbb3e989bf1b77d42ea1c7dbfc67129a4d2e4cbceef6ffb\n"
     ]
    }
   ],
   "source": [
    "import hashlib\n",
    "import os\n",
    "\n",
    "password = \"password123\"\n",
    "salt = os.urandom(16)  # Generate a 16-byte random salt\n",
    "hashed_password = hashlib.sha256(salt + password.encode()).hexdigest()\n",
    "\n",
    "print(f\"Salt: {salt.hex()}\")\n",
    "print(f\"Hashed Password: {hashed_password}\")\n"
   ]
  }
 ],
 "metadata": {
  "kernelspec": {
   "display_name": "Python 3",
   "language": "python",
   "name": "python3"
  },
  "language_info": {
   "codemirror_mode": {
    "name": "ipython",
    "version": 3
   },
   "file_extension": ".py",
   "mimetype": "text/x-python",
   "name": "python",
   "nbconvert_exporter": "python",
   "pygments_lexer": "ipython3",
   "version": "3.13.0"
  }
 },
 "nbformat": 4,
 "nbformat_minor": 2
}
