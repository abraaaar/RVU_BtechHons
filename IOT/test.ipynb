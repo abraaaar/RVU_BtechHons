{
 "cells": [
  {
   "cell_type": "code",
   "execution_count": 4,
   "metadata": {},
   "outputs": [],
   "source": [
    "import numpy as np\n",
    "import sys\n",
    "import platform"
   ]
  },
  {
   "cell_type": "markdown",
   "metadata": {},
   "source": [
    "<h3>Numpy dtypes</h3>"
   ]
  },
  {
   "cell_type": "code",
   "execution_count": 5,
   "metadata": {},
   "outputs": [
    {
     "name": "stdout",
     "output_type": "stream",
     "text": [
      "Python interpreter version running on Windows PE\n",
      "<class 'tuple'>\n",
      "<class 'str'>\n",
      "2\n",
      "('64bit', 'WindowsPE')\n",
      "64bit\n",
      "WindowsPE\n",
      "\n",
      "About dtype object\n",
      "Type:  <class '__main__.X'>\n",
      "Value:  I am am instance of class X\n",
      "My name is ObjX\n",
      "\n",
      "About NumPy array of objects\n",
      "Item size of objXArr is  8\n",
      "Number of elements in the npObjXArr is  3\n",
      "Total size in bytes, taken by npObjXArr is  24\n",
      "\n",
      "Details of npObjArr[0]\n",
      "Type:  <class '__main__.X'>\n",
      "Value:  I am am instance of class X\n",
      "My name is ObjX\n",
      "\n",
      "Details of npObjArr[1]\n",
      "Type:  <class '__main__.Y'>\n",
      "Value:  I am am instance of class Y\n",
      "My name is ObjY\n",
      "\n",
      "Details of npObjArr[2]\n",
      "Type:  <class '__main__.Z'>\n",
      "Value:  I am am instance of class Z\n",
      "My name is ObjZ\n",
      "\n",
      "About overflows in NumPy\n",
      "Value of 100^8 using int64 10000000000000000\n",
      "Value of 100^8 using int32 1874919424\n",
      "Value of 100^100 using npPow64 0\n",
      "Value of 100^100 using npPowF64 1e+200\n",
      "Byte order of two bytes int is:  =\n",
      "Item size is  2\n",
      "Endianess:  =\n",
      "Endianess:  |\n",
      "System byteorder:  little\n",
      "<class 'numpy.dtypes.UIntDType'>\n",
      "Non-native byteorder is  >\n",
      "Native byteorder is  <\n"
     ]
    }
   ],
   "source": [
    "print('Python interpreter version running on Windows PE')\n",
    "print(type(platform.architecture())) \n",
    "print(type(platform.architecture()[0]))\n",
    "print(len(platform.architecture()))\n",
    "print(platform.architecture())\n",
    "print(platform.architecture()[0])\n",
    "print(platform.architecture()[1])\n",
    "\n",
    "class X:\n",
    "    def __init__(self, name):\n",
    "        self.name = name\n",
    "    \n",
    "    def __str__(self):\n",
    "      return 'I am am instance of class X\\n'  + 'My name is ' + self.name\n",
    "\n",
    "class Y:\n",
    "    def __init__(self, name):\n",
    "        self.name = name\n",
    "    \n",
    "    def __str__(self):\n",
    "      return 'I am am instance of class Y\\n'  + 'My name is ' + self.name\n",
    "\n",
    "class Z:\n",
    "    def __init__(self, name):\n",
    "        self.name = name\n",
    "    \n",
    "    def __str__(self):\n",
    "      return 'I am am instance of class Z\\n'  + 'My name is ' + self.name\n",
    "\n",
    "objX = X('ObjX')\n",
    "objY = Y('ObjY')\n",
    "objZ = Z('ObjZ')\n",
    "\n",
    "npObjX = np.object_(objX)\n",
    "print('\\nAbout dtype object')\n",
    "print('Type: ', type(npObjX))\n",
    "print('Value: ', npObjX)\n",
    "\n",
    "\n",
    "npObjArr = np.ndarray(3, dtype=object)\n",
    "\n",
    "npObjArr[0] = objX\n",
    "npObjArr[1] = objY\n",
    "npObjArr[2] = objZ\n",
    "\n",
    "print('\\nAbout NumPy array of objects')\n",
    "print('Item size of objXArr is ', npObjArr.itemsize)\n",
    "print('Number of elements in the npObjXArr is ', npObjArr.size)\n",
    "print('Total size in bytes, taken by npObjXArr is ', \n",
    "      npObjArr.size * npObjArr.itemsize)\n",
    "\n",
    "for i in range(3):\n",
    "    print('\\nDetails of npObjArr[', i, ']', sep='')\n",
    "    print('Type: ', type(npObjArr[i]))\n",
    "    print('Value: ', npObjArr[i])\n",
    "\n",
    "# About Overflows in NumPy which does not happen with Python ints\n",
    "npPow64 = np.power(100, 8, dtype=np.int64)\n",
    "print('\\nAbout overflows in NumPy')\n",
    "print('Value of 100^8 using int64', npPow64)\n",
    "npPow32 = np.power(100, 8, dtype=np.int32)\n",
    "print('Value of 100^8 using int32', npPow32)\n",
    "\n",
    "# Incorrect even with 64-bit int, then float64 can be used instead\n",
    "npPow64 = np.power(100, 100, dtype=np.int64) \n",
    "print('Value of 100^100 using npPow64', npPow64)\n",
    "npPowF64 = np.power(100, 100, dtype=np.float64) \n",
    "print('Value of 100^100 using npPowF64', npPowF64)\n",
    "\n",
    "# About byteorder\n",
    "dt = np.dtype('i2') # An  integer with two bytes\n",
    "print('Byte order of two bytes int is: ', dt.byteorder) # Native endianess\n",
    "print('Item size is ', dt.itemsize)\n",
    "\n",
    "# Learn about endiness of the machine this is running on\n",
    "print('Endianess: ', np.dtype(np.uintc).byteorder)\n",
    "print('Endianess: ', np.dtype(np.ubyte).byteorder)\n",
    "\n",
    "print('System byteorder: ', sys.byteorder)\n",
    "\n",
    "intNonNative = np.dtype(np.uintc).newbyteorder('S')\n",
    "print(type(intNonNative))\n",
    "print('Non-native byteorder is ', intNonNative.byteorder)\n",
    "intNative = np.dtype(np.uintc).newbyteorder('S').newbyteorder('S')\n",
    "print('Native byteorder is ', intNative.byteorder)\n"
   ]
  },
  {
   "cell_type": "markdown",
   "metadata": {},
   "source": [
    "<h3>Numpy Endianess</h3>"
   ]
  },
  {
   "cell_type": "code",
   "execution_count": 6,
   "metadata": {},
   "outputs": [
    {
     "name": "stdout",
     "output_type": "stream",
     "text": [
      "[0 1 2 3]\n",
      "id(arr) =  1944777379536\n",
      "[10  1  2  3]\n",
      "id(arr) =  1944777379536\n",
      "[10  1  2  3  4]\n",
      "id(arr) =  1944780745168\n",
      "value in npMyInt32 is  5\n",
      "Size of npMyInt32 is  4\n",
      "Binary contents of npMyInt32 is  b'\\x05\\x00\\x00\\x00'\n",
      "value in npMyInt64 is  -2\n",
      "Size of npMyInt64 is  8\n",
      "Binary contents of npMyInt64 is  b'\\xfe\\xff\\xff\\xff\\xff\\xff\\xff\\xff'\n",
      "Can you understand the byte contents?\n",
      "What is the endinaness of the machine this is running on?\n",
      "little\n",
      "Endianess of a byte:  |\n",
      "Endianess of a short or int16:  =\n",
      "Value in npMyInt32 is  8\n",
      "Value in npMyInt32 in hex is  0x8\n",
      "Endianess or byteorder of npMyInt32 is  =\n",
      "Print the byte contents of npMyInt32:  b'\\x08\\x00\\x00\\x00'\n",
      "Value in npMyInt32New is  134217728\n",
      "Value in npMyInt32New in hex is  0x8000000\n",
      "Swapped byte contents of npMyInt32New:  b'\\x00\\x00\\x00\\x08'\n"
     ]
    }
   ],
   "source": [
    "arr = np.array([0, 1, 2, 3])\n",
    "print(arr)\n",
    "print(\"id(arr) = \", id(arr))\n",
    "\n",
    "# Individual elements of a NumPy array can be modified without changing its size\n",
    "arr[0] = 10\n",
    "print(arr)\n",
    "print(\"id(arr) = \", id(arr))\n",
    "\n",
    "# Adding a new element or changing the size of NumPy array creates a new array\n",
    "arr = np.append(arr, 4)\n",
    "print(arr)\n",
    "print(\"id(arr) = \", id(arr))\n",
    "\n",
    "# Let us understand the contents of different integer values in NumPy\n",
    "npMyInt32 = np.int32(5)\n",
    "print(\"value in npMyInt32 is \", npMyInt32)\n",
    "print(\"Size of npMyInt32 is \", npMyInt32.nbytes)\n",
    "print(\"Binary contents of npMyInt32 is \", npMyInt32.tobytes())\n",
    "\n",
    "npMyInt64 = np.int64(-2)\n",
    "print(\"value in npMyInt64 is \", npMyInt64)\n",
    "print(\"Size of npMyInt64 is \", npMyInt64.nbytes)\n",
    "print(\"Binary contents of npMyInt64 is \", npMyInt64.tobytes())\n",
    "\n",
    "print(\"Can you understand the byte contents?\")\n",
    "print(\"What is the endinaness of the machine this is running on?\")\n",
    "\n",
    "# Get the byte order (endianess of the machine)\n",
    "# Ref: https://numpy.org/doc/stable/reference/generated/numpy.dtype.byteorder.html\n",
    "\n",
    "# Get the endianess of the system\n",
    "print(sys.byteorder)\n",
    "\n",
    "# Different values of the byteorder attribute of NumPy\n",
    "# byteorder is an attribute of NumPy arrays (ndarray) and data types (dtype)\n",
    "# ‘=’ : native\n",
    "# ‘<’ : little-endian\n",
    "# ‘>’ : big-endian\n",
    "# ‘|’   : not applicable\n",
    "\n",
    "# Is endianess relevant for a byte value?\n",
    "print(\"Endianess of a byte: \", np.dtype('i1').byteorder)\n",
    "\n",
    "# Is endianess relevant for a byte value?\n",
    "print(\"Endianess of a short or int16: \", np.dtype('i2').byteorder)\n",
    "\n",
    "npMyInt32 = np.int32(8)\n",
    "\n",
    "print(\"Value in npMyInt32 is \", npMyInt32)\n",
    "print(\"Value in npMyInt32 in hex is \", hex(npMyInt32))\n",
    "\n",
    "print(\"Endianess or byteorder of npMyInt32 is \", npMyInt32.dtype.byteorder)\n",
    "print(\"Print the byte contents of npMyInt32: \", npMyInt32.tobytes())\n",
    "\n",
    "# Change the byteorder of the NumPy variable (in-place is not allowed)\n",
    "npMyInt32New = npMyInt32.byteswap()\n",
    "print(\"Value in npMyInt32New is \", npMyInt32New)\n",
    "print(\"Value in npMyInt32New in hex is \", hex(npMyInt32New))\n",
    "\n",
    "print(\"Swapped byte contents of npMyInt32New: \", npMyInt32New.tobytes())\n",
    "\n",
    "# Byteswap in-place is not allowed on a scalar value in NumPy\n",
    "#npMyInt32.byteswap(inplace=True)"
   ]
  },
  {
   "cell_type": "markdown",
   "metadata": {},
   "source": [
    "<h3>Numpy ndarrays</h3>"
   ]
  },
  {
   "cell_type": "code",
   "execution_count": 7,
   "metadata": {},
   "outputs": [
    {
     "name": "stdout",
     "output_type": "stream",
     "text": [
      "[0 1 2 3]\n",
      "[[0 1 2]\n",
      " [3 4 5]]\n",
      "(2, 3)\n",
      "2\n",
      "[0 1 2]\n",
      "[3 4 5]\n",
      "[0 1 2 3 4 5 6 7 8 9]\n",
      "[1. 2. 3.]\n",
      "[1.+2.j 3.+4.j 5.+6.j]\n",
      "complex128\n"
     ]
    }
   ],
   "source": [
    "a = np.array([0, 1, 2, 3])\n",
    "print(a)\n",
    "\n",
    "b = np.array([[0, 1, 2], [3, 4, 5]])    # 2 x 3 array\n",
    "print(b)\n",
    "\n",
    "print(b.shape)\n",
    "print(b.ndim)\n",
    "print(b[0])\n",
    "print(b[1])\n",
    "\n",
    "\n",
    "a = np.arange(10) # 0 .. n-1  (!)\n",
    "print(a)\n",
    "\n",
    "aFloat = np.array([1, 2, 3], dtype=float)\n",
    "print(aFloat)\n",
    "\n",
    "aComplex = np.array([1+2j, 3+4j, 5+6*1j])\n",
    "print(aComplex)\n",
    "print(aComplex.dtype)\n"
   ]
  },
  {
   "cell_type": "code",
   "execution_count": 13,
   "metadata": {},
   "outputs": [
    {
     "name": "stdout",
     "output_type": "stream",
     "text": [
      "=\n"
     ]
    }
   ],
   "source": [
    "\n",
    "my_arr = np.array([1, 2, 3])\n",
    "print(my_arr.dtype.byteorder)"
   ]
  },
  {
   "cell_type": "code",
   "execution_count": 14,
   "metadata": {},
   "outputs": [
    {
     "name": "stdout",
     "output_type": "stream",
     "text": [
      "=\n"
     ]
    }
   ],
   "source": [
    "my_arr2 = np.array(['hello', 'wow', 'yes'])\n",
    "print(my_arr2.dtype.byteorder)"
   ]
  }
 ],
 "metadata": {
  "kernelspec": {
   "display_name": "base",
   "language": "python",
   "name": "python3"
  },
  "language_info": {
   "codemirror_mode": {
    "name": "ipython",
    "version": 3
   },
   "file_extension": ".py",
   "mimetype": "text/x-python",
   "name": "python",
   "nbconvert_exporter": "python",
   "pygments_lexer": "ipython3",
   "version": "3.12.4"
  }
 },
 "nbformat": 4,
 "nbformat_minor": 2
}
