{
  "nbformat": 4,
  "nbformat_minor": 0,
  "metadata": {
    "colab": {
      "provenance": []
    },
    "kernelspec": {
      "name": "python3",
      "display_name": "Python 3"
    },
    "language_info": {
      "name": "python"
    }
  },
  "cells": [
    {
      "cell_type": "code",
      "execution_count": 1,
      "metadata": {
        "colab": {
          "base_uri": "https://localhost:8080/"
        },
        "id": "mFb40mq2fWLD",
        "outputId": "a6faab79-6610-489a-e695-32b5b4748dfd"
      },
      "outputs": [
        {
          "output_type": "stream",
          "name": "stdout",
          "text": [
            "Collecting annoy\n",
            "  Downloading annoy-1.17.3.tar.gz (647 kB)\n",
            "\u001b[?25l     \u001b[90m━━━━━━━━━━━━━━━━━━━━━━━━━━━━━━━━━━━━━━━━\u001b[0m \u001b[32m0.0/647.5 kB\u001b[0m \u001b[31m?\u001b[0m eta \u001b[36m-:--:--\u001b[0m\r\u001b[2K     \u001b[90m━━━━━━━━━━━━━━━━━━━━━━━━━━━━━━━━━━━━━━━━\u001b[0m \u001b[32m647.5/647.5 kB\u001b[0m \u001b[31m21.6 MB/s\u001b[0m eta \u001b[36m0:00:00\u001b[0m\n",
            "\u001b[?25h  Preparing metadata (setup.py) ... \u001b[?25l\u001b[?25hdone\n",
            "Requirement already satisfied: torchvision in /usr/local/lib/python3.10/dist-packages (0.19.0+cu121)\n",
            "Requirement already satisfied: numpy in /usr/local/lib/python3.10/dist-packages (from torchvision) (1.26.4)\n",
            "Requirement already satisfied: torch==2.4.0 in /usr/local/lib/python3.10/dist-packages (from torchvision) (2.4.0+cu121)\n",
            "Requirement already satisfied: pillow!=8.3.*,>=5.3.0 in /usr/local/lib/python3.10/dist-packages (from torchvision) (9.4.0)\n",
            "Requirement already satisfied: filelock in /usr/local/lib/python3.10/dist-packages (from torch==2.4.0->torchvision) (3.16.0)\n",
            "Requirement already satisfied: typing-extensions>=4.8.0 in /usr/local/lib/python3.10/dist-packages (from torch==2.4.0->torchvision) (4.12.2)\n",
            "Requirement already satisfied: sympy in /usr/local/lib/python3.10/dist-packages (from torch==2.4.0->torchvision) (1.13.2)\n",
            "Requirement already satisfied: networkx in /usr/local/lib/python3.10/dist-packages (from torch==2.4.0->torchvision) (3.3)\n",
            "Requirement already satisfied: jinja2 in /usr/local/lib/python3.10/dist-packages (from torch==2.4.0->torchvision) (3.1.4)\n",
            "Requirement already satisfied: fsspec in /usr/local/lib/python3.10/dist-packages (from torch==2.4.0->torchvision) (2024.6.1)\n",
            "Requirement already satisfied: MarkupSafe>=2.0 in /usr/local/lib/python3.10/dist-packages (from jinja2->torch==2.4.0->torchvision) (2.1.5)\n",
            "Requirement already satisfied: mpmath<1.4,>=1.1.0 in /usr/local/lib/python3.10/dist-packages (from sympy->torch==2.4.0->torchvision) (1.3.0)\n",
            "Building wheels for collected packages: annoy\n",
            "  Building wheel for annoy (setup.py) ... \u001b[?25l\u001b[?25hdone\n",
            "  Created wheel for annoy: filename=annoy-1.17.3-cp310-cp310-linux_x86_64.whl size=552449 sha256=a7e6959a4a99e8f0000ae2e5bdb75e1ea9a05ee7024a79eb485e378ffd0ba07c\n",
            "  Stored in directory: /root/.cache/pip/wheels/64/8a/da/f714bcf46c5efdcfcac0559e63370c21abe961c48e3992465a\n",
            "Successfully built annoy\n",
            "Installing collected packages: annoy\n",
            "Successfully installed annoy-1.17.3\n"
          ]
        }
      ],
      "source": [
        "# Install necessary libraries\n",
        "!pip install annoy torchvision\n",
        "\n"
      ]
    },
    {
      "cell_type": "code",
      "source": [
        "from annoy import AnnoyIndex\n",
        "import numpy as np\n",
        "import torch\n",
        "from torchvision import models, transforms\n",
        "from PIL import Image\n"
      ],
      "metadata": {
        "id": "cuqM2yg8fbr8"
      },
      "execution_count": 2,
      "outputs": []
    },
    {
      "cell_type": "code",
      "source": [
        "# Define function to get image embeddings\n",
        "def get_image_embedding(image_path):\n",
        "    model = models.resnet18(pretrained=True)\n",
        "    model.eval()  # Set the model to evaluation mode\n",
        "    preprocess = transforms.Compose([\n",
        "        transforms.Resize(256),                 # Resize the image to 256x256\n",
        "        transforms.CenterCrop(224),             # Crop the center 224x224 part of the image\n",
        "        transforms.ToTensor(),                  # Convert the image to a tensor\n",
        "        transforms.Normalize(mean=[0.485, 0.456, 0.406], std=[0.229, 0.224, 0.225]),  # Normalize using ImageNet stats\n",
        "    ])\n",
        "    image = Image.open(image_path)  # Open the image file\n",
        "    image_tensor = preprocess(image).unsqueeze(0)  # Preprocess and add batch dimension\n",
        "    with torch.no_grad():  # Disable gradient calculation\n",
        "        features = model(image_tensor).numpy()  # Get feature vectors\n",
        "    return features.flatten()  # Flatten the feature vector\n"
      ],
      "metadata": {
        "id": "JG_pdnlqfb7M"
      },
      "execution_count": 3,
      "outputs": []
    },
    {
      "cell_type": "code",
      "source": [
        "# Sample image paths\n",
        "image_paths = [\"/content/panigalev4.jpeg\", \"/content/kawasaki.jpeg\", \"/content/Yamaha_R6.jpeg\"]"
      ],
      "metadata": {
        "id": "4gTJqta-fb_X"
      },
      "execution_count": 6,
      "outputs": []
    },
    {
      "cell_type": "code",
      "source": [
        "# Get embeddings for the sample images\n",
        "embeddings = np.array([get_image_embedding(path) for path in image_paths])\n"
      ],
      "metadata": {
        "id": "aMLOApc2fcB2"
      },
      "execution_count": 7,
      "outputs": []
    },
    {
      "cell_type": "code",
      "source": [
        "# Create an Annoy index\n",
        "dimension = embeddings.shape[1]  # Get the embedding dimension\n",
        "index = AnnoyIndex(dimension, 'angular')  # Use angular distance (cosine similarity)\n",
        "for i, embedding in enumerate(embeddings):\n",
        "    index.add_item(i, embedding)  # Add embeddings to the index\n",
        "index.build(10)  # Build the index with 10 trees"
      ],
      "metadata": {
        "colab": {
          "base_uri": "https://localhost:8080/"
        },
        "id": "QHC_u0b5fcEn",
        "outputId": "9142b0d7-2653-4f52-bc50-254504956852"
      },
      "execution_count": 8,
      "outputs": [
        {
          "output_type": "execute_result",
          "data": {
            "text/plain": [
              "True"
            ]
          },
          "metadata": {},
          "execution_count": 8
        }
      ]
    },
    {
      "cell_type": "code",
      "source": [
        "# Query: Find similar images to the query image\n",
        "query_embedding = get_image_embedding(\"/content/dmonster.jpeg\")\n",
        "nearest_neighbors = index.get_nns_by_vector(query_embedding, 2)  # Find 2 nearest neighbors\n"
      ],
      "metadata": {
        "id": "IAhuFQhefcHB"
      },
      "execution_count": 10,
      "outputs": []
    },
    {
      "cell_type": "code",
      "source": [
        "# Output the nearest neighbors\n",
        "print(\"Nearest neighbors:\", nearest_neighbors)\n"
      ],
      "metadata": {
        "colab": {
          "base_uri": "https://localhost:8080/"
        },
        "id": "TiSbKXX4fcJi",
        "outputId": "2b7a67eb-0ca4-4837-b3e5-cf17a04ccb9d"
      },
      "execution_count": 11,
      "outputs": [
        {
          "output_type": "stream",
          "name": "stdout",
          "text": [
            "Nearest neighbors: [0, 2]\n"
          ]
        }
      ]
    }
  ]
}