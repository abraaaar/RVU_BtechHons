{
 "cells": [
  {
   "cell_type": "code",
   "execution_count": 1,
   "metadata": {},
   "outputs": [
    {
     "name": "stdout",
     "output_type": "stream",
     "text": [
      "Input: h, Predicted Next: l\n",
      "Input: e, Predicted Next: e\n",
      "Input: l, Predicted Next: h\n",
      "Input: l, Predicted Next: h\n"
     ]
    }
   ],
   "source": [
    "# Use an RNN to predict the next character in a string of text, introducing the concept of sequence-to-sequence modeling.\n",
    "# Use a simple string, such as \"hello\".\n",
    "# Convert characters to vectors that the RNN can process.\n",
    "# Build an RNN that predicts the next character in the sequence.\n",
    "import numpy as np\n",
    "\n",
    "# Define the text data\n",
    "text = \"hello\"\n",
    "chars = list(set(text))\n",
    "char_to_idx = {char: i for i, char in enumerate(chars)}\n",
    "idx_to_char = {i: char for i, char in enumerate(chars)}\n",
    "\n",
    "input_size = len(chars)\n",
    "hidden_size = 4\n",
    "output_size = len(chars)\n",
    "\n",
    "# Randomly initialize weights\n",
    "W_xh = np.random.randn(hidden_size, input_size) * 0.01\n",
    "W_hh = np.random.randn(hidden_size, hidden_size) * 0.01\n",
    "W_hy = np.random.randn(output_size, hidden_size) * 0.01\n",
    "\n",
    "h = np.zeros((hidden_size, 1))\n",
    "\n",
    "def one_hot_encode(char):\n",
    "    vec = np.zeros((len(chars), 1))\n",
    "    vec[char_to_idx[char]] = 1\n",
    "    return vec\n",
    "\n",
    "def rnn_step(x, h_prev):\n",
    "    h = np.tanh(np.dot(W_xh, x) + np.dot(W_hh, h_prev))\n",
    "    y = np.dot(W_hy, h)\n",
    "    return h, y\n",
    "\n",
    "# Process the text\n",
    "for char in text[:-1]:\n",
    "    x = one_hot_encode(char)\n",
    "    h, y = rnn_step(x, h)\n",
    "    predicted_char = idx_to_char[np.argmax(y)]\n",
    "    print(f\"Input: {char}, Predicted Next: {predicted_char}\") \n",
    "    # This RNN processes the string \"hello\", predicting the next character in the sequence. This introduces students to character-level sequence modeling and one-hot encoding."
   ]
  }
 ],
 "metadata": {
  "kernelspec": {
   "display_name": "base",
   "language": "python",
   "name": "python3"
  },
  "language_info": {
   "codemirror_mode": {
    "name": "ipython",
    "version": 3
   },
   "file_extension": ".py",
   "mimetype": "text/x-python",
   "name": "python",
   "nbconvert_exporter": "python",
   "pygments_lexer": "ipython3",
   "version": "3.12.4"
  }
 },
 "nbformat": 4,
 "nbformat_minor": 2
}
