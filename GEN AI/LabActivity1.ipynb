{
 "cells": [
  {
   "cell_type": "code",
   "execution_count": 1,
   "metadata": {},
   "outputs": [
    {
     "name": "stdout",
     "output_type": "stream",
     "text": [
      "Input: 0, Predicted Next: 0.0\n",
      "Input: 1, Predicted Next: 0.8193604040866498\n",
      "Input: 2, Predicted Next: 0.9346817250623519\n",
      "Input: 3, Predicted Next: 0.9443591900668468\n",
      "Input: 4, Predicted Next: 0.9450663502688432\n",
      "Input: 5, Predicted Next: 0.9451138166764279\n"
     ]
    }
   ],
   "source": [
    "# Objective: Introduce students to the basic structure of an RNN and how it processes sequences by predicting the next element in a simple numerical sequence.\n",
    "\n",
    "\n",
    "# Use a basic numerical sequence, such as [0, 1, 2, 3, 4, 5].\n",
    "# Define the RNN's architecture using basic matrix multiplications.\n",
    "# Calculate the hidden state and output for each step in the sequence.\n",
    "import numpy as np\n",
    "\n",
    "# Initialize the sequence and RNN parameters\n",
    "sequence = [0, 1, 2, 3, 4, 5]\n",
    "input_size = 1\n",
    "hidden_size = 2\n",
    "\n",
    "# Randomly initialize weights\n",
    "W_xh = np.random.randn(hidden_size, input_size)  # Input to hidden\n",
    "W_hh = np.random.randn(hidden_size, hidden_size)  # Hidden to hidden\n",
    "W_hy = np.random.randn(1, hidden_size)  # Hidden to output\n",
    "\n",
    "# Initialize the hidden state\n",
    "h = np.zeros((hidden_size, 1))\n",
    "\n",
    "def rnn_step(x, h_prev):\n",
    "    h = np.tanh(np.dot(W_xh, x) + np.dot(W_hh, h_prev))\n",
    "    y = np.dot(W_hy, h)\n",
    "    return h, y\n",
    "\n",
    "# Process the sequence\n",
    "for number in sequence:\n",
    "    x = np.array([[number]])\n",
    "    h, y = rnn_step(x, h)\n",
    "    print(f\"Input: {number}, Predicted Next: {y[0][0]}\")\n",
    "\n",
    "# Explanation: This simple RNN processes a sequence of numbers, predicting the next number in the sequence. The hidden state h is updated at each step, and the output y is computed from the hidden state."
   ]
  }
 ],
 "metadata": {
  "kernelspec": {
   "display_name": "base",
   "language": "python",
   "name": "python3"
  },
  "language_info": {
   "codemirror_mode": {
    "name": "ipython",
    "version": 3
   },
   "file_extension": ".py",
   "mimetype": "text/x-python",
   "name": "python",
   "nbconvert_exporter": "python",
   "pygments_lexer": "ipython3",
   "version": "3.12.4"
  }
 },
 "nbformat": 4,
 "nbformat_minor": 2
}
