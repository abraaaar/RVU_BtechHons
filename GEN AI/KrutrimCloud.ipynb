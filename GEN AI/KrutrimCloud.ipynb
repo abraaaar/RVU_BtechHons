{
 "cells": [
  {
   "cell_type": "code",
   "execution_count": 1,
   "metadata": {},
   "outputs": [
    {
     "name": "stdout",
     "output_type": "stream",
     "text": [
      "Failed to get a response from the server. Status code: 401\n",
      "Response content: {\"error\":\"unauthorized\"}\n"
     ]
    }
   ],
   "source": [
    "import requests\n",
    "import base64\n",
    "from PIL import Image\n",
    "from io import BytesIO\n",
    "\n",
    "# Define your payload\n",
    "payload = {\n",
    "  \"modelName\": \"diffusion1XL\",  # Fixed model name\n",
    "  \"prompt\": \"cat on a couch\",  # Your text prompt here\n",
    "  \"imageHeight\": 1024,\n",
    "  \"imageWidth\": 1024,\n",
    "  \"numOutputImages\": 3,\n",
    "  \"guidanceScale\": 7.5,\n",
    "  \"numInferenceSteps\": 10\n",
    "}\n",
    "\n",
    "# Headers with your secret key\n",
    "headers = {\n",
    "    \"content-type\": \"application/json\",\n",
    "    \"Authorization\": \"Bearer <your secret key here>\"  # Insert your secret key\n",
    "}\n",
    "\n",
    "# API endpoint\n",
    "url = \"https://cloud.olakrutrim.com/v1/images/generations/diffusion\"\n",
    "\n",
    "# Send the POST request\n",
    "resp = requests.post(url, headers=headers, json=payload)\n",
    "\n",
    "# Process the response\n",
    "if resp.status_code == 200:\n",
    "    output = resp.json()\n",
    "    for index, img_data in enumerate(output[\"data\"]):\n",
    "        img_bytes = base64.b64decode(img_data[\"b64_json\"])\n",
    "        img = Image.open(BytesIO(img_bytes))\n",
    "        img.show()  # This will display the image in the notebook\n",
    "else:\n",
    "    print(\"Failed to get a response from the server. Status code:\", resp.status_code)\n",
    "    print(\"Response content:\", resp.text)\n"
   ]
  },
  {
   "cell_type": "code",
   "execution_count": 2,
   "metadata": {},
   "outputs": [
    {
     "ename": "NameError",
     "evalue": "name 'img' is not defined",
     "output_type": "error",
     "traceback": [
      "\u001b[1;31m---------------------------------------------------------------------------\u001b[0m",
      "\u001b[1;31mNameError\u001b[0m                                 Traceback (most recent call last)",
      "Cell \u001b[1;32mIn[2], line 1\u001b[0m\n\u001b[1;32m----> 1\u001b[0m img\u001b[38;5;241m.\u001b[39msave(\u001b[38;5;124mf\u001b[39m\u001b[38;5;124m\"\u001b[39m\u001b[38;5;124mgenerated_image_\u001b[39m\u001b[38;5;132;01m{\u001b[39;00mindex\u001b[38;5;132;01m}\u001b[39;00m\u001b[38;5;124m.png\u001b[39m\u001b[38;5;124m\"\u001b[39m)\n",
      "\u001b[1;31mNameError\u001b[0m: name 'img' is not defined"
     ]
    }
   ],
   "source": [
    "img.save(f\"generated_image_{index}.png\")"
   ]
  }
 ],
 "metadata": {
  "kernelspec": {
   "display_name": "base",
   "language": "python",
   "name": "python3"
  },
  "language_info": {
   "codemirror_mode": {
    "name": "ipython",
    "version": 3
   },
   "file_extension": ".py",
   "mimetype": "text/x-python",
   "name": "python",
   "nbconvert_exporter": "python",
   "pygments_lexer": "ipython3",
   "version": "3.12.4"
  }
 },
 "nbformat": 4,
 "nbformat_minor": 2
}
